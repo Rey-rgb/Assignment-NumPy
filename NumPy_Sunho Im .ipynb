{
 "cells": [
  {
   "cell_type": "code",
   "execution_count": null,
   "id": "a071c750-dd40-4fa1-9b43-5c35b4b24ac0",
   "metadata": {},
   "outputs": [],
   "source": [
    "\"\"\"\n",
    "This assignment consists of five questions for a total of 75 points. Submit your results as a .py file via your GitHub repository.\n",
    "1. Import numpy as np and print the version number. (5 Points)\n",
    "2. Create a 1D array of numbers from 0 to 9. Desired output:\n",
    "#> array([0, 1, 2, 3, 4, 5, 6, 7, 8, 9])\n",
    "(10 Points)\n",
    "\n",
    "3. Import a dataset with numbers and texts keeping the text intact in python numpy. Use the iris dataset available from https://archive.ics.uci.edu/ml/machine-learning-databases/iris/iris.dataLinks to an external site.. (20 Points)\n",
    "\n",
    "4. Find the position of the first occurrence of a value greater than 1.0 in petalwidth 4th column of iris dataset. Use the iris dataset available from https://archive.ics.uci.edu/ml/machine-learning-databases/iris/iris.dataLinks to an external site.. (20 Points)\n",
    "\n",
    "5. From the array a, replace all values greater than 30 to 30 and less than 10 to 10.\n",
    "Input:\n",
    "\n",
    "np.random.seed(100)\n",
    "a = np.random.uniform(1,50, 20)\n",
    "(20 Points)\n",
    "\"\"\""
   ]
  },
  {
   "cell_type": "code",
   "execution_count": 3,
   "id": "c2eff8d2-bef3-4e78-9fdc-e25532ea6a5c",
   "metadata": {},
   "outputs": [],
   "source": [
    "# 1. Import numpy as np and print the version number. (5 Points)\n",
    "import numpy as np"
   ]
  },
  {
   "cell_type": "code",
   "execution_count": 9,
   "id": "b027b103-c215-4419-98ef-7f3d6b63ea8e",
   "metadata": {},
   "outputs": [
    {
     "name": "stdout",
     "output_type": "stream",
     "text": [
      "[0 1 2 3 4 5 6 7 8 9]\n"
     ]
    }
   ],
   "source": [
    "# 2. Create a 1D array of numbers from 0 to 9. Desired output:\n",
    "# #> array([0, 1, 2, 3, 4, 5, 6, 7, 8, 9])\n",
    "# (10 Points)\n",
    "\n",
    "Q2 = np.arange(10)\n",
    "print(Q2)"
   ]
  },
  {
   "cell_type": "code",
   "execution_count": 85,
   "id": "64117730-9e3f-4439-aef5-35d3e96be6fa",
   "metadata": {},
   "outputs": [
    {
     "name": "stdout",
     "output_type": "stream",
     "text": [
      "[(5.1, 3.5, 1.4, 0.2, b'Iris-setosa') (4.9, 3. , 1.4, 0.2, b'Iris-setosa')\n",
      " (4.7, 3.2, 1.3, 0.2, b'Iris-setosa') (4.6, 3.1, 1.5, 0.2, b'Iris-setosa')\n",
      " (5. , 3.6, 1.4, 0.2, b'Iris-setosa') (5.4, 3.9, 1.7, 0.4, b'Iris-setosa')\n",
      " (4.6, 3.4, 1.4, 0.3, b'Iris-setosa') (5. , 3.4, 1.5, 0.2, b'Iris-setosa')\n",
      " (4.4, 2.9, 1.4, 0.2, b'Iris-setosa') (4.9, 3.1, 1.5, 0.1, b'Iris-setosa')\n",
      " (5.4, 3.7, 1.5, 0.2, b'Iris-setosa') (4.8, 3.4, 1.6, 0.2, b'Iris-setosa')\n",
      " (4.8, 3. , 1.4, 0.1, b'Iris-setosa') (4.3, 3. , 1.1, 0.1, b'Iris-setosa')\n",
      " (5.8, 4. , 1.2, 0.2, b'Iris-setosa') (5.7, 4.4, 1.5, 0.4, b'Iris-setosa')\n",
      " (5.4, 3.9, 1.3, 0.4, b'Iris-setosa') (5.1, 3.5, 1.4, 0.3, b'Iris-setosa')\n",
      " (5.7, 3.8, 1.7, 0.3, b'Iris-setosa') (5.1, 3.8, 1.5, 0.3, b'Iris-setosa')]\n"
     ]
    },
    {
     "name": "stderr",
     "output_type": "stream",
     "text": [
      "/var/folders/9s/m83p31z54sq2pmb926wsx2yr0000gn/T/ipykernel_81381/2149554865.py:5: VisibleDeprecationWarning: Reading unicode strings without specifying the encoding argument is deprecated. Set the encoding, use None for the system default.\n",
      "  iris_data = np.genfromtxt(url, delimiter=',', dtype=None)\n"
     ]
    }
   ],
   "source": [
    "# 3. Import a dataset with numbers and texts keeping the text intact in python numpy. \n",
    "# Use the iris dataset available from https://archive.ics.uci.edu/ml/machine-learning-databases/iris/iris.dataLinks to an external site.. \n",
    "# (20 Points)\n",
    "url = \"https://archive.ics.uci.edu/ml/machine-learning-databases/iris/iris.data\"\n",
    "iris_data = np.genfromtxt(url, delimiter=',', dtype=None)\n",
    "iris_numeric_data = np.array(iris_data[:], dtype= None)\n",
    "print(iris_data[:20])"
   ]
  },
  {
   "cell_type": "code",
   "execution_count": 105,
   "id": "88ccbe9f-5c36-43e2-9992-087ff89ff312",
   "metadata": {},
   "outputs": [
    {
     "name": "stdout",
     "output_type": "stream",
     "text": [
      "50\n"
     ]
    }
   ],
   "source": [
    "# 4. Find the position of the first occurrence of a value greater than 1.0 in petalwidth 4th column of iris dataset. \n",
    "# Use the iris dataset available from https://archive.ics.uci.edu/ml/machine-learning-databases/iris/iris.dataLinks to an external site.. (20 Points)\n",
    "petal_width_column = np.array([row[3] for row in iris_data]) #index 4th column for each row (each bracket)\n",
    "first_occurrence = np.where(petal_width_column > 1.0)[0][0] #find every row and identify the first one\n",
    "print(first_occurrence)"
   ]
  },
  {
   "cell_type": "code",
   "execution_count": 103,
   "id": "e879e26a-622a-4e14-afe0-a847837c9466",
   "metadata": {},
   "outputs": [
    {
     "name": "stdout",
     "output_type": "stream",
     "text": [
      "Original array:\n",
      " [27.62684215 14.64009987 21.80136195 42.39403048  1.23122395  6.95688692\n",
      " 33.86670515 41.466785    7.69862289 29.17957314 44.67477576 11.25090398\n",
      " 10.08108276  6.31046763 11.76517714 48.95256545 40.77247431  9.42510962\n",
      " 40.99501269 14.42961361]\n",
      "Modified array:\n",
      " [27.62684215 14.64009987 21.80136195 30.         10.         10.\n",
      " 30.         30.         10.         29.17957314 30.         11.25090398\n",
      " 10.08108276 10.         11.76517714 30.         30.         10.\n",
      " 30.         14.42961361]\n",
      "[27.62684215 14.64009987 21.80136195 30.         10.         10.\n",
      " 30.         30.         10.         29.17957314 30.         11.25090398\n",
      " 10.08108276 10.         11.76517714 30.         30.         10.\n",
      " 30.         14.42961361]\n"
     ]
    }
   ],
   "source": [
    "# 5. From the array a, replace all values greater than 30 to 30 and less than 10 to 10.\n",
    "# Input:\n",
    "# np.random.seed(100)\n",
    "# a = np.random.uniform(1,50, 20)\n",
    "# (20 Points)\n",
    "np.random.seed(100)\n",
    "a = np.random.uniform(1, 50, 20)\n",
    "print(\"Original array:\\n\", a)\n",
    "\n",
    "b = a\n",
    "b[b > 30] = 30 # modifiy values that is greater than 30 to 30 \n",
    "b[b < 10] = 10 # modifiy values that is less than 10 to 10 \n",
    "print(\"Modified array:\\n\", b)\n",
    "\n",
    "c= np.clip(a,10,30) # there is a np.clip() that does the same thing \n",
    "print(c)"
   ]
  }
 ],
 "metadata": {
  "kernelspec": {
   "display_name": "Python 3 (ipykernel)",
   "language": "python",
   "name": "python3"
  },
  "language_info": {
   "codemirror_mode": {
    "name": "ipython",
    "version": 3
   },
   "file_extension": ".py",
   "mimetype": "text/x-python",
   "name": "python",
   "nbconvert_exporter": "python",
   "pygments_lexer": "ipython3",
   "version": "3.12.4"
  }
 },
 "nbformat": 4,
 "nbformat_minor": 5
}
